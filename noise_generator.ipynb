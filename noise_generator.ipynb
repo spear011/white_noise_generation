{
  "cells": [
    {
      "cell_type": "markdown",
      "metadata": {
        "id": "yIjQKTpswd8Y"
      },
      "source": [
        "## 라이브러리 설치 및 임포트"
      ]
    },
    {
      "cell_type": "code",
      "execution_count": null,
      "metadata": {
        "colab": {
          "base_uri": "https://localhost:8080/"
        },
        "id": "FBmIuFXBwUD6",
        "outputId": "6fc34421-a625-40e8-ca37-c8c5f4fc8d2e"
      },
      "outputs": [],
      "source": [
        "!pip install acoustics"
      ]
    },
    {
      "cell_type": "code",
      "execution_count": null,
      "metadata": {
        "id": "SUeLqo4qv5-W"
      },
      "outputs": [],
      "source": [
        "import acoustics as ac\n",
        "import numpy as np"
      ]
    },
    {
      "cell_type": "code",
      "execution_count": null,
      "metadata": {},
      "outputs": [],
      "source": [
        "sample_rate = 44100 # 샘플링 레이트\n",
        "sec = 10 # 샘플 길이 (초)\n",
        "color = 'white' # 노이즈 컬러 ['white', 'pink', 'brown', 'violet', 'blue']"
      ]
    },
    {
      "cell_type": "code",
      "execution_count": null,
      "metadata": {},
      "outputs": [],
      "source": [
        "def generate_sample(sec, sample_rate, color, weight):\n",
        "  samples = ac.generator.noise(sec * sample_rate, color = color)\n",
        "  weighted_samples = ac.Signal(samples, sample_rate).weigh(weight)\n",
        "  return weighted_samples\n",
        "\n",
        "def bandpass_filter(samples, lowcut, highcut):\n",
        "  filtered_samples = samples.bandpass(lowcut=lowcut, highcut=highcut)\n",
        "  return filtered_samples\n",
        "\n",
        "def save_sample(samples, db, file_name):\n",
        "  current_db = samples.leq()\n",
        "  gain_db = db - current_db\n",
        "  samples = samples.gain(gain_db)\n",
        "  samples.to_wav(file_name + '.wav')\n",
        "\n",
        "\n",
        "sample = generate_sample(sec, sample_rate, 'white', 'A')\n",
        "sample = bandpass_filter(sample, 20, 10000)\n",
        "save_sample(sample, 60, 'noise_sample')"
      ]
    },
    {
      "cell_type": "markdown",
      "metadata": {},
      "source": [
        "# 단계별 진행"
      ]
    },
    {
      "cell_type": "markdown",
      "metadata": {
        "id": "SusqOkPMwmo2"
      },
      "source": [
        "### 파라미터 설정"
      ]
    },
    {
      "cell_type": "markdown",
      "metadata": {
        "id": "Tj2tkY3rw3-i"
      },
      "source": [
        "|Color|Power|Power density|\n",
        "|---|---|---|\n",
        "|White|\t+3 dB|\t0 dB|\n",
        "|Pink|\t0 dB|\t-3 dB|\n",
        "|Blue|\t+6 dB|\t+3 dB|\n",
        "|Brown\t|-3 dB|\t-6 dB|\n",
        "|Violet\t|+9 dB\t|+6 dB|"
      ]
    },
    {
      "cell_type": "code",
      "execution_count": null,
      "metadata": {
        "id": "6u2fgICEwQXH"
      },
      "outputs": [],
      "source": [
        "sample_rate = 44100 # 샘플링 레이트\n",
        "sec = 10 # 샘플 길이 (초)\n",
        "color = 'white' # 노이즈 컬러 ['white', 'pink', 'brown', 'violet', 'blue']"
      ]
    },
    {
      "cell_type": "markdown",
      "metadata": {
        "id": "gVF2H3LnyRR1"
      },
      "source": [
        "## 노이즈 샘플 생성"
      ]
    },
    {
      "cell_type": "code",
      "execution_count": null,
      "metadata": {
        "id": "wAMdy84MxaHU"
      },
      "outputs": [],
      "source": [
        "samples = ac.generator.noise(sec * sample_rate, color = color)"
      ]
    },
    {
      "cell_type": "markdown",
      "metadata": {
        "id": "FdnO5H7ryUzY"
      },
      "source": [
        "웨이팅 필터 적용"
      ]
    },
    {
      "cell_type": "markdown",
      "metadata": {
        "id": "19OTFx6Axy9P"
      },
      "source": [
        "|Weight|Effects|\n",
        "|---|---|\n",
        "|Z| Default|\n",
        "|A|A - Weighting|\n",
        "|C|C - Weighing|"
      ]
    },
    {
      "cell_type": "code",
      "execution_count": null,
      "metadata": {
        "id": "YU4VW13QxiPc"
      },
      "outputs": [],
      "source": [
        "weighted_samples = ac.Signal(samples, sample_rate).weigh('Z') # 원하는 웨이팅 필터 알파벳"
      ]
    },
    {
      "cell_type": "markdown",
      "metadata": {
        "id": "8wpy9kLo4fUj"
      },
      "source": [
        "Bandpass 필터 적용"
      ]
    },
    {
      "cell_type": "code",
      "execution_count": null,
      "metadata": {
        "id": "gF9xg8a-4ilB"
      },
      "outputs": [],
      "source": [
        "filtered_samples = weighted_samples.bandpass(lowcut=20, highcut=20000) # 주파수 대역 설정 20 ~ 20000 사이만 통과"
      ]
    },
    {
      "cell_type": "markdown",
      "metadata": {
        "id": "frW_mEzhyXV2"
      },
      "source": [
        "생성된 샘플 소리 크기 측정"
      ]
    },
    {
      "cell_type": "code",
      "execution_count": null,
      "metadata": {
        "colab": {
          "base_uri": "https://localhost:8080/"
        },
        "id": "fThsUzPeyMO4",
        "outputId": "e997c572-bbae-4b81-d5c4-a7e258901895"
      },
      "outputs": [
        {
          "data": {
            "text/plain": [
              "93.54960903759613"
            ]
          },
          "execution_count": 7,
          "metadata": {},
          "output_type": "execute_result"
        }
      ],
      "source": [
        "filtered_samples.leq()"
      ]
    },
    {
      "cell_type": "code",
      "execution_count": null,
      "metadata": {
        "colab": {
          "base_uri": "https://localhost:8080/"
        },
        "id": "ZLFRYTTHkOWb",
        "outputId": "2be63204-4c9b-4f6d-b081-857b8c0cb624"
      },
      "outputs": [
        {
          "data": {
            "text/plain": [
              "88.87338080363386"
            ]
          },
          "execution_count": 23,
          "metadata": {},
          "output_type": "execute_result"
        }
      ],
      "source": [
        "sample.leq()"
      ]
    },
    {
      "cell_type": "code",
      "execution_count": null,
      "metadata": {
        "colab": {
          "base_uri": "https://localhost:8080/"
        },
        "id": "AQYf2BqBj8Qj",
        "outputId": "3111a497-5567-4b93-9f6c-a7f34be0308c"
      },
      "outputs": [
        {
          "data": {
            "text/plain": [
              "Signal([ 0.00024503  0.00194073  0.00531289 ... -0.00467464  0.01880302\n",
              "  0.03131615])"
            ]
          },
          "execution_count": 24,
          "metadata": {},
          "output_type": "execute_result"
        }
      ],
      "source": [
        "sample.gain(-28, inplace=True)"
      ]
    },
    {
      "cell_type": "markdown",
      "metadata": {
        "id": "K2yw4cdQynta"
      },
      "source": [
        "소리 크기 조절"
      ]
    },
    {
      "cell_type": "code",
      "execution_count": null,
      "metadata": {
        "colab": {
          "base_uri": "https://localhost:8080/"
        },
        "id": "_iqO0RcFyNkB",
        "outputId": "9d5108d9-c479-4489-b917-3ab0b6d7a86a"
      },
      "outputs": [
        {
          "data": {
            "text/plain": [
              "50.989306586139435"
            ]
          },
          "execution_count": 8,
          "metadata": {},
          "output_type": "execute_result"
        }
      ],
      "source": [
        "weighted_samples.gain(-43).leq()"
      ]
    },
    {
      "cell_type": "code",
      "execution_count": null,
      "metadata": {
        "colab": {
          "base_uri": "https://localhost:8080/"
        },
        "id": "-otE8eiLys82",
        "outputId": "2b75a9ec-4143-4343-ded2-2d80f65a1202"
      },
      "outputs": [
        {
          "data": {
            "text/plain": [
              "Signal([-0.00018412 -0.0016413  -0.00898497 ...  0.0063074   0.0016327\n",
              "  0.00521018])"
            ]
          },
          "execution_count": 9,
          "metadata": {},
          "output_type": "execute_result"
        }
      ],
      "source": [
        "weighted_samples.gain(-43, inplace=True)"
      ]
    },
    {
      "cell_type": "markdown",
      "metadata": {
        "id": "8dSMP761yyD4"
      },
      "source": [
        "Wav 파일 저장"
      ]
    },
    {
      "cell_type": "code",
      "execution_count": null,
      "metadata": {
        "id": "KuaO3yuSyv46"
      },
      "outputs": [],
      "source": [
        "weighted_samples.to_wav('white_noise_50db.wav')"
      ]
    },
    {
      "cell_type": "code",
      "execution_count": null,
      "metadata": {
        "id": "LqpPOCp8y5OE"
      },
      "outputs": [],
      "source": [
        "sample.to_wav('white_C_60db_10K.wav')"
      ]
    },
    {
      "cell_type": "code",
      "execution_count": null,
      "metadata": {
        "id": "qeDrLsgaAYAy"
      },
      "outputs": [],
      "source": []
    }
  ],
  "metadata": {
    "colab": {
      "provenance": []
    },
    "kernelspec": {
      "display_name": "Python 3",
      "name": "python3"
    },
    "language_info": {
      "name": "python"
    }
  },
  "nbformat": 4,
  "nbformat_minor": 0
}
